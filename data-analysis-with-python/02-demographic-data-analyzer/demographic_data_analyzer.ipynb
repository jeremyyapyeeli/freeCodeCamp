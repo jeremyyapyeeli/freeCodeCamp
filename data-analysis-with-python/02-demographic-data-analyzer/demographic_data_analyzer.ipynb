{
 "cells": [
  {
   "cell_type": "code",
   "execution_count": 1,
   "metadata": {},
   "outputs": [],
   "source": [
    "import unittest\n",
    "import numpy as np\n",
    "import pandas as pd"
   ]
  },
  {
   "cell_type": "code",
   "execution_count": 2,
   "metadata": {},
   "outputs": [],
   "source": [
    "# creating the function to calculate\n",
    "def calculate_demographic_data(print_data=True):\n",
    "    # Read data from file\n",
    "    df = pd.read_csv('adult.data.csv')\n",
    "\n",
    "    # How many of each race are represented in this dataset? This should be a Pandas series with race names as the index labels.\n",
    "    race_count = df['race'].value_counts()\n",
    "\n",
    "    # What is the average age of men?\n",
    "    average_age_men = round(df.loc[df['sex'] == 'Male', 'age'].mean(),1)\n",
    "\n",
    "    # What is the percentage of people who have a Bachelor's degree?\n",
    "    percentage_bachelors = round(df['education'].value_counts(normalize=True)['Bachelors']*100, 1)\n",
    "\n",
    "    # What percentage of people with advanced education (`Bachelors`, `Masters`, or `Doctorate`) make more than 50K?\n",
    "    # What percentage of people without advanced education make more than 50K?\n",
    "\n",
    "    # with and without `Bachelors`, `Masters`, or `Doctorate`\n",
    "    higher_education = df.loc[df['education'].isin(['Bachelors','Masters','Doctorate'])]\n",
    "    lower_education = df.loc[~df['education'].isin(['Bachelors','Masters','Doctorate'])]\n",
    "\n",
    "    # percentage with salary >50K\n",
    "    higher_education_rich = round(higher_education['salary'].value_counts(normalize=True)['>50K']*100,1)\n",
    "    lower_education_rich = round(lower_education['salary'].value_counts(normalize=True)['>50K']*100,1)\n",
    "\n",
    "    # What is the minimum number of hours a person works per week (hours-per-week feature)?\n",
    "    min_work_hours = df['hours-per-week'].min()\n",
    "\n",
    "    # What percentage of the people who work the minimum number of hours per week have a salary of >50K?\n",
    "    num_min_workers = df.loc[df['hours-per-week'] == min_work_hours]\n",
    "\n",
    "    rich_percentage = round(num_min_workers['salary'].value_counts(normalize=True)['>50K']*100,1)\n",
    "\n",
    "    # What country has the highest percentage of people that earn >50K?\n",
    "    highest_earning_country = (df.loc[df['salary'] == '>50K']['native-country'].value_counts() / df['native-country'].value_counts()).idxmax()\n",
    "    highest_earning_country_percentage = round(df.loc[df['native-country'] == highest_earning_country]['salary'].value_counts(normalize=True)['>50K']*100,1)\n",
    "\n",
    "    # Identify the most popular occupation for those who earn >50K in India.\n",
    "    top_IN_occupation = df.loc[(df['native-country'] == 'India') & (df['salary'] == '>50K')]['occupation'].value_counts().idxmax()\n",
    "\n",
    "    # DO NOT MODIFY BELOW THIS LINE\n",
    "\n",
    "    if print_data:\n",
    "        print(\"Number of each race:\\n\", race_count) \n",
    "        print(\"Average age of men:\", average_age_men)\n",
    "        print(f\"Percentage with Bachelors degrees: {percentage_bachelors}%\")\n",
    "        print(f\"Percentage with higher education that earn >50K: {higher_education_rich}%\")\n",
    "        print(f\"Percentage without higher education that earn >50K: {lower_education_rich}%\")\n",
    "        print(f\"Min work time: {min_work_hours} hours/week\")\n",
    "        print(f\"Percentage of rich among those who work fewest hours: {rich_percentage}%\")\n",
    "        print(\"Country with highest percentage of rich:\", highest_earning_country)\n",
    "        print(f\"Highest percentage of rich people in country: {highest_earning_country_percentage}%\")\n",
    "        print(\"Top occupations in India:\", top_IN_occupation)\n",
    "\n",
    "    return {\n",
    "        'race_count': race_count,\n",
    "        'average_age_men': average_age_men,\n",
    "        'percentage_bachelors': percentage_bachelors,\n",
    "        'higher_education_rich': higher_education_rich,\n",
    "        'lower_education_rich': lower_education_rich,\n",
    "        'min_work_hours': min_work_hours,\n",
    "        'rich_percentage': rich_percentage,\n",
    "        'highest_earning_country': highest_earning_country,\n",
    "        'highest_earning_country_percentage':\n",
    "        highest_earning_country_percentage,\n",
    "        'top_IN_occupation': top_IN_occupation\n",
    "    }"
   ]
  },
  {
   "cell_type": "code",
   "execution_count": 3,
   "metadata": {},
   "outputs": [
    {
     "name": "stdout",
     "output_type": "stream",
     "text": [
      "Number of each race:\n",
      " White                 27816\n",
      "Black                  3124\n",
      "Asian-Pac-Islander     1039\n",
      "Amer-Indian-Eskimo      311\n",
      "Other                   271\n",
      "Name: race, dtype: int64\n",
      "Average age of men: 39.4\n",
      "Percentage with Bachelors degrees: 16.4%\n",
      "Percentage with higher education that earn >50K: 46.5%\n",
      "Percentage without higher education that earn >50K: 17.4%\n",
      "Min work time: 1 hours/week\n",
      "Percentage of rich among those who work fewest hours: 10.0%\n",
      "Country with highest percentage of rich: Iran\n",
      "Highest percentage of rich people in country: 41.9%\n",
      "Top occupations in India: Prof-specialty\n"
     ]
    },
    {
     "data": {
      "text/plain": [
       "{'race_count': White                 27816\n",
       " Black                  3124\n",
       " Asian-Pac-Islander     1039\n",
       " Amer-Indian-Eskimo      311\n",
       " Other                   271\n",
       " Name: race, dtype: int64,\n",
       " 'average_age_men': 39.4,\n",
       " 'percentage_bachelors': 16.4,\n",
       " 'higher_education_rich': 46.5,\n",
       " 'lower_education_rich': 17.4,\n",
       " 'min_work_hours': 1,\n",
       " 'rich_percentage': 10.0,\n",
       " 'highest_earning_country': 'Iran',\n",
       " 'highest_earning_country_percentage': 41.9,\n",
       " 'top_IN_occupation': 'Prof-specialty'}"
      ]
     },
     "execution_count": 3,
     "metadata": {},
     "output_type": "execute_result"
    }
   ],
   "source": [
    "# running the function as per main.py\n",
    "calculate_demographic_data()"
   ]
  },
  {
   "cell_type": "code",
   "execution_count": 4,
   "metadata": {},
   "outputs": [
    {
     "name": "stderr",
     "output_type": "stream",
     "text": [
      "test_average_age_men (__main__.DemographicAnalyzerTestCase) ... ok\n",
      "test_higher_education_rich (__main__.DemographicAnalyzerTestCase) ... ok\n",
      "test_highest_earning_country (__main__.DemographicAnalyzerTestCase) ... ok\n",
      "test_highest_earning_country_percentage (__main__.DemographicAnalyzerTestCase) ... ok\n",
      "test_lower_education_rich (__main__.DemographicAnalyzerTestCase) ... ok\n",
      "test_min_work_hours (__main__.DemographicAnalyzerTestCase) ... ok\n",
      "test_percentage_bachelors (__main__.DemographicAnalyzerTestCase) ... ok\n",
      "test_race_count (__main__.DemographicAnalyzerTestCase) ... ok\n",
      "test_rich_percentage (__main__.DemographicAnalyzerTestCase) ... ok\n",
      "test_top_IN_occupation (__main__.DemographicAnalyzerTestCase) ... ok\n",
      "\n",
      "----------------------------------------------------------------------\n",
      "Ran 10 tests in 0.095s\n",
      "\n",
      "OK\n"
     ]
    },
    {
     "data": {
      "text/plain": [
       "<unittest.main.TestProgram at 0x1fa82f03b80>"
      ]
     },
     "execution_count": 4,
     "metadata": {},
     "output_type": "execute_result"
    }
   ],
   "source": [
    "# running the test cases as per test_module.py\n",
    "class DemographicAnalyzerTestCase(unittest.TestCase):\n",
    "    @classmethod\n",
    "    def setUpClass(self):\n",
    "        self.data = calculate_demographic_data(print_data = False)\n",
    "\n",
    "    def test_race_count(self):\n",
    "        actual = self.data['race_count'].tolist()\n",
    "        expected = [27816, 3124, 1039, 311, 271]\n",
    "        self.assertCountEqual(actual, expected, msg=\"Expected race count values to be [27816, 3124, 1039, 311, 271]\")\n",
    "\n",
    "    def test_average_age_men(self):\n",
    "        actual = self.data['average_age_men']\n",
    "        expected = 39.4\n",
    "        self.assertAlmostEqual(actual, expected, msg=\"Expected different value for average age of men.\")\n",
    "\n",
    "    def test_percentage_bachelors(self):\n",
    "        actual = self.data['percentage_bachelors']\n",
    "        expected = 16.4 \n",
    "        self.assertAlmostEqual(actual, expected, msg=\"Expected different value for percentage with Bachelors degrees.\")\n",
    "\n",
    "    def test_higher_education_rich(self):\n",
    "        actual = self.data['higher_education_rich']\n",
    "        expected = 46.5\n",
    "        self.assertAlmostEqual(actual, expected, msg=\"Expected different value for percentage with higher education that earn >50K.\")\n",
    "  \n",
    "    def test_lower_education_rich(self):\n",
    "        actual = self.data['lower_education_rich']\n",
    "        expected = 17.4\n",
    "        self.assertAlmostEqual(actual, expected, msg=\"Expected different value for percentage without higher education that earn >50K.\")\n",
    "\n",
    "    def test_min_work_hours(self):\n",
    "        actual = self.data['min_work_hours']\n",
    "        expected = 1\n",
    "        self.assertAlmostEqual(actual, expected, msg=\"Expected different value for minimum work hours.\")     \n",
    "\n",
    "    def test_rich_percentage(self):\n",
    "        actual = self.data['rich_percentage']\n",
    "        expected = 10\n",
    "        self.assertAlmostEqual(actual, expected, msg=\"Expected different value for percentage of rich among those who work fewest hours.\")   \n",
    "\n",
    "    def test_highest_earning_country(self):\n",
    "        actual = self.data['highest_earning_country']\n",
    "        expected = 'Iran'\n",
    "        self.assertEqual(actual, expected, \"Expected different value for highest earning country.\")   \n",
    "\n",
    "    def test_highest_earning_country_percentage(self):\n",
    "        actual = self.data['highest_earning_country_percentage']\n",
    "        expected = 41.9\n",
    "        self.assertAlmostEqual(actual, expected, msg=\"Expected different value for highest earning country percentage.\")   \n",
    "\n",
    "    def test_top_IN_occupation(self):\n",
    "        actual = self.data['top_IN_occupation']\n",
    "        expected = 'Prof-specialty'\n",
    "        self.assertEqual(actual, expected, \"Expected different value for top occupations in India.\")      \n",
    "\n",
    "unittest.main(argv=[''], verbosity=2, exit=False)\n"
   ]
  }
 ],
 "metadata": {
  "kernelspec": {
   "display_name": "minimal_ds",
   "language": "python",
   "name": "python3"
  },
  "language_info": {
   "codemirror_mode": {
    "name": "ipython",
    "version": 3
   },
   "file_extension": ".py",
   "mimetype": "text/x-python",
   "name": "python",
   "nbconvert_exporter": "python",
   "pygments_lexer": "ipython3",
   "version": "3.10.8"
  },
  "orig_nbformat": 4
 },
 "nbformat": 4,
 "nbformat_minor": 2
}
